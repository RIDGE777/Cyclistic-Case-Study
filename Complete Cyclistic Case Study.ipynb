{
 "cells": [
  {
   "cell_type": "code",
   "execution_count": 2,
   "id": "a8765486",
   "metadata": {},
   "outputs": [],
   "source": [
    "import pandas as pd\n",
    "import numpy as np\n",
    "import seaborn as sns\n",
    "import datetime \n",
    "import matplotlib.pyplot as plt"
   ]
  },
  {
   "cell_type": "code",
   "execution_count": 3,
   "id": "08368651",
   "metadata": {},
   "outputs": [],
   "source": [
    "file_location = 'C:/Users/ragir/OneDrive/Desktop/DATA ANALYTICS/Portfolio Projects/Case Study 1/Monthly Clean Data/'\n",
    "\n",
    "df1 = pd.read_excel(file_location + 'January2022.xlsx')\n",
    "df2 = pd.read_excel(file_location + 'February2022.xlsx')\n",
    "df3 = pd.read_excel(file_location + 'March2022.xlsx')\n",
    "df4 = pd.read_excel(file_location + 'April2022.xlsx')\n",
    "df5 = pd.read_excel(file_location + 'May2022.xlsx')\n",
    "df6 = pd.read_excel(file_location + 'June2022.xlsx')\n",
    "df7 = pd.read_excel(file_location + 'July2022.xlsx')\n",
    "df8 = pd.read_excel(file_location + 'August2022.xlsx')\n",
    "df9 = pd.read_excel(file_location + 'September2022.xlsx')\n",
    "df10 = pd.read_excel(file_location + 'October2022.xlsx')\n",
    "df11 = pd.read_excel(file_location + 'November2022.xlsx')\n",
    "df12 = pd.read_excel(file_location + 'December2022.xlsx')\n",
    "\n"
   ]
  },
  {
   "cell_type": "code",
   "execution_count": 4,
   "id": "794533f6",
   "metadata": {},
   "outputs": [],
   "source": [
    "# Merging all the data\n",
    "Cyclistic_data = pd.concat([df1, df2, df3, df4, df5, df6, df7, df8, df9, df10, df11, df12], axis=0, ignore_index=True)\n"
   ]
  },
  {
   "cell_type": "code",
   "execution_count": 5,
   "id": "23a593b9",
   "metadata": {},
   "outputs": [
    {
     "data": {
      "text/html": [
       "<div>\n",
       "<style scoped>\n",
       "    .dataframe tbody tr th:only-of-type {\n",
       "        vertical-align: middle;\n",
       "    }\n",
       "\n",
       "    .dataframe tbody tr th {\n",
       "        vertical-align: top;\n",
       "    }\n",
       "\n",
       "    .dataframe thead th {\n",
       "        text-align: right;\n",
       "    }\n",
       "</style>\n",
       "<table border=\"1\" class=\"dataframe\">\n",
       "  <thead>\n",
       "    <tr style=\"text-align: right;\">\n",
       "      <th></th>\n",
       "      <th>ride_id</th>\n",
       "      <th>rideable_type</th>\n",
       "      <th>start_lat</th>\n",
       "      <th>start_lng</th>\n",
       "      <th>end_lat</th>\n",
       "      <th>end_lng</th>\n",
       "      <th>member_type</th>\n",
       "      <th>start_datetime</th>\n",
       "      <th>end_datetime</th>\n",
       "    </tr>\n",
       "  </thead>\n",
       "  <tbody>\n",
       "    <tr>\n",
       "      <th>0</th>\n",
       "      <td>98D355D9A9852BE9</td>\n",
       "      <td>classic_bike</td>\n",
       "      <td>41.872773</td>\n",
       "      <td>-87.623981</td>\n",
       "      <td>41.872773</td>\n",
       "      <td>-87.623981</td>\n",
       "      <td>casual</td>\n",
       "      <td>2022-01-01 00:00:05</td>\n",
       "      <td>2022-01-01 00:01:48</td>\n",
       "    </tr>\n",
       "    <tr>\n",
       "      <th>1</th>\n",
       "      <td>04706CA7F5BD25EE</td>\n",
       "      <td>electric_bike</td>\n",
       "      <td>41.949073</td>\n",
       "      <td>-87.648633</td>\n",
       "      <td>41.937582</td>\n",
       "      <td>-87.644098</td>\n",
       "      <td>casual</td>\n",
       "      <td>2022-01-01 00:01:00</td>\n",
       "      <td>2022-01-01 00:04:39</td>\n",
       "    </tr>\n",
       "    <tr>\n",
       "      <th>2</th>\n",
       "      <td>42178E850B92597A</td>\n",
       "      <td>electric_bike</td>\n",
       "      <td>41.875919</td>\n",
       "      <td>-87.631194</td>\n",
       "      <td>41.875933</td>\n",
       "      <td>-87.630585</td>\n",
       "      <td>casual</td>\n",
       "      <td>2022-01-01 00:01:16</td>\n",
       "      <td>2022-01-01 00:32:14</td>\n",
       "    </tr>\n",
       "    <tr>\n",
       "      <th>3</th>\n",
       "      <td>6B93C46E8F5B114C</td>\n",
       "      <td>classic_bike</td>\n",
       "      <td>41.872773</td>\n",
       "      <td>-87.623981</td>\n",
       "      <td>41.872773</td>\n",
       "      <td>-87.623981</td>\n",
       "      <td>casual</td>\n",
       "      <td>2022-01-01 00:02:14</td>\n",
       "      <td>2022-01-01 00:31:07</td>\n",
       "    </tr>\n",
       "    <tr>\n",
       "      <th>4</th>\n",
       "      <td>466943353EAC8022</td>\n",
       "      <td>classic_bike</td>\n",
       "      <td>41.872773</td>\n",
       "      <td>-87.623981</td>\n",
       "      <td>41.872773</td>\n",
       "      <td>-87.623981</td>\n",
       "      <td>casual</td>\n",
       "      <td>2022-01-01 00:02:35</td>\n",
       "      <td>2022-01-01 00:31:04</td>\n",
       "    </tr>\n",
       "  </tbody>\n",
       "</table>\n",
       "</div>"
      ],
      "text/plain": [
       "            ride_id  rideable_type  start_lat  start_lng    end_lat  \\\n",
       "0  98D355D9A9852BE9   classic_bike  41.872773 -87.623981  41.872773   \n",
       "1  04706CA7F5BD25EE  electric_bike  41.949073 -87.648633  41.937582   \n",
       "2  42178E850B92597A  electric_bike  41.875919 -87.631194  41.875933   \n",
       "3  6B93C46E8F5B114C   classic_bike  41.872773 -87.623981  41.872773   \n",
       "4  466943353EAC8022   classic_bike  41.872773 -87.623981  41.872773   \n",
       "\n",
       "     end_lng member_type      start_datetime        end_datetime  \n",
       "0 -87.623981      casual 2022-01-01 00:00:05 2022-01-01 00:01:48  \n",
       "1 -87.644098      casual 2022-01-01 00:01:00 2022-01-01 00:04:39  \n",
       "2 -87.630585      casual 2022-01-01 00:01:16 2022-01-01 00:32:14  \n",
       "3 -87.623981      casual 2022-01-01 00:02:14 2022-01-01 00:31:07  \n",
       "4 -87.623981      casual 2022-01-01 00:02:35 2022-01-01 00:31:04  "
      ]
     },
     "execution_count": 5,
     "metadata": {},
     "output_type": "execute_result"
    }
   ],
   "source": [
    "# Viewing top 5 of the merged data\n",
    "Cyclistic_data.head()"
   ]
  },
  {
   "cell_type": "code",
   "execution_count": 6,
   "id": "73e54cd4",
   "metadata": {},
   "outputs": [
    {
     "name": "stdout",
     "output_type": "stream",
     "text": [
      "<class 'pandas.core.frame.DataFrame'>\n",
      "RangeIndex: 5240260 entries, 0 to 5240259\n",
      "Data columns (total 9 columns):\n",
      " #   Column          Dtype         \n",
      "---  ------          -----         \n",
      " 0   ride_id         object        \n",
      " 1   rideable_type   object        \n",
      " 2   start_lat       float64       \n",
      " 3   start_lng       float64       \n",
      " 4   end_lat         float64       \n",
      " 5   end_lng         float64       \n",
      " 6   member_type     object        \n",
      " 7   start_datetime  datetime64[ns]\n",
      " 8   end_datetime    datetime64[ns]\n",
      "dtypes: datetime64[ns](2), float64(4), object(3)\n",
      "memory usage: 359.8+ MB\n"
     ]
    }
   ],
   "source": [
    "# Check data info, data types\n",
    "Cyclistic_data.info()"
   ]
  },
  {
   "cell_type": "code",
   "execution_count": 37,
   "id": "b3515054",
   "metadata": {},
   "outputs": [],
   "source": [
    "# Change ride_id and member_type columns into categorical datatype\n",
    "Cyclistic_data['rideable_type'] = Cyclistic_data['rideable_type'].astype('category')\n",
    "Cyclistic_data['member_type'] = Cyclistic_data['member_type'].astype('category')"
   ]
  },
  {
   "cell_type": "code",
   "execution_count": 9,
   "id": "1b5ad883",
   "metadata": {},
   "outputs": [],
   "source": [
    "#Drop start_lat, start_lng, end_lat, end_lng columns\n",
    "Cyclistic_data.drop(['start_lat', 'start_lng', 'end_lat', 'end_lng'], axis=1, inplace=True)\n"
   ]
  },
  {
   "cell_type": "code",
   "execution_count": 38,
   "id": "7546d946",
   "metadata": {},
   "outputs": [
    {
     "name": "stdout",
     "output_type": "stream",
     "text": [
      "<class 'pandas.core.frame.DataFrame'>\n",
      "RangeIndex: 5240260 entries, 0 to 5240259\n",
      "Data columns (total 8 columns):\n",
      " #   Column          Dtype          \n",
      "---  ------          -----          \n",
      " 0   ride_id         object         \n",
      " 1   rideable_type   category       \n",
      " 2   member_type     category       \n",
      " 3   start_datetime  datetime64[ns] \n",
      " 4   end_datetime    datetime64[ns] \n",
      " 5   ride_length     timedelta64[ns]\n",
      " 6   day_of_week     category       \n",
      " 7   month_name      category       \n",
      "dtypes: category(4), datetime64[ns](2), object(1), timedelta64[ns](1)\n",
      "memory usage: 179.9+ MB\n"
     ]
    }
   ],
   "source": [
    "Cyclistic_data.info()"
   ]
  },
  {
   "cell_type": "code",
   "execution_count": 11,
   "id": "073a584a",
   "metadata": {},
   "outputs": [
    {
     "data": {
      "text/plain": [
       "ride_id           0\n",
       "rideable_type     0\n",
       "member_type       0\n",
       "start_datetime    0\n",
       "end_datetime      0\n",
       "dtype: int64"
      ]
     },
     "execution_count": 11,
     "metadata": {},
     "output_type": "execute_result"
    }
   ],
   "source": [
    "# Check for nulls\n",
    "Cyclistic_data.isnull().sum()"
   ]
  },
  {
   "cell_type": "code",
   "execution_count": 13,
   "id": "7373878b",
   "metadata": {},
   "outputs": [
    {
     "data": {
      "text/plain": [
       "0         0 days 00:01:43\n",
       "1         0 days 00:03:39\n",
       "2         0 days 00:30:58\n",
       "3         0 days 00:28:53\n",
       "4         0 days 00:28:29\n",
       "                ...      \n",
       "5240255   0 days 00:24:22\n",
       "5240256   0 days 00:08:39\n",
       "5240257   0 days 00:18:12\n",
       "5240258   0 days 00:17:49\n",
       "5240259   0 days 00:02:28\n",
       "Name: ride_length, Length: 5240260, dtype: timedelta64[ns]"
      ]
     },
     "execution_count": 13,
     "metadata": {},
     "output_type": "execute_result"
    }
   ],
   "source": [
    "# Create a new column ride_length(end_datetime- start_datetime) to get time travelled\n",
    "Cyclistic_data['ride_length'] = Cyclistic_data['end_datetime'] - Cyclistic_data['start_datetime']\n",
    "Cyclistic_data['ride_length']"
   ]
  },
  {
   "cell_type": "code",
   "execution_count": 39,
   "id": "9b95c679",
   "metadata": {},
   "outputs": [
    {
     "name": "stdout",
     "output_type": "stream",
     "text": [
      "<class 'pandas.core.frame.DataFrame'>\n",
      "RangeIndex: 5240260 entries, 0 to 5240259\n",
      "Data columns (total 8 columns):\n",
      " #   Column          Dtype          \n",
      "---  ------          -----          \n",
      " 0   ride_id         object         \n",
      " 1   rideable_type   category       \n",
      " 2   member_type     category       \n",
      " 3   start_datetime  datetime64[ns] \n",
      " 4   end_datetime    datetime64[ns] \n",
      " 5   ride_length     timedelta64[ns]\n",
      " 6   day_of_week     category       \n",
      " 7   month_name      category       \n",
      "dtypes: category(4), datetime64[ns](2), object(1), timedelta64[ns](1)\n",
      "memory usage: 179.9+ MB\n"
     ]
    }
   ],
   "source": [
    "Cyclistic_data.info()"
   ]
  },
  {
   "cell_type": "code",
   "execution_count": 17,
   "id": "af477364",
   "metadata": {},
   "outputs": [
    {
     "data": {
      "text/plain": [
       "0    Saturday\n",
       "1    Saturday\n",
       "2    Saturday\n",
       "3    Saturday\n",
       "4    Saturday\n",
       "Name: day_of_week, dtype: object"
      ]
     },
     "execution_count": 17,
     "metadata": {},
     "output_type": "execute_result"
    }
   ],
   "source": [
    "# Add day_of_week column extracted from start_datetime column\n",
    "Cyclistic_data['day_of_week'] = Cyclistic_data['start_datetime'].dt.day_name()\n",
    "Cyclistic_data.day_of_week.head()"
   ]
  },
  {
   "cell_type": "code",
   "execution_count": 18,
   "id": "d4d14e75",
   "metadata": {},
   "outputs": [
    {
     "data": {
      "text/plain": [
       "0    January\n",
       "1    January\n",
       "2    January\n",
       "3    January\n",
       "4    January\n",
       "Name: month_name, dtype: object"
      ]
     },
     "execution_count": 18,
     "metadata": {},
     "output_type": "execute_result"
    }
   ],
   "source": [
    "# Add month_name column from start_datetime column\n",
    "Cyclistic_data['month_name'] = Cyclistic_data['start_datetime'].dt.month_name()\n",
    "Cyclistic_data.month_name.head()"
   ]
  },
  {
   "cell_type": "code",
   "execution_count": 41,
   "id": "1cf42f30",
   "metadata": {},
   "outputs": [
    {
     "name": "stdout",
     "output_type": "stream",
     "text": [
      "<class 'pandas.core.frame.DataFrame'>\n",
      "RangeIndex: 5240260 entries, 0 to 5240259\n",
      "Data columns (total 8 columns):\n",
      " #   Column          Dtype          \n",
      "---  ------          -----          \n",
      " 0   ride_id         object         \n",
      " 1   rideable_type   category       \n",
      " 2   member_type     category       \n",
      " 3   start_datetime  datetime64[ns] \n",
      " 4   end_datetime    datetime64[ns] \n",
      " 5   ride_length     timedelta64[ns]\n",
      " 6   day_of_week     category       \n",
      " 7   month_name      category       \n",
      "dtypes: category(4), datetime64[ns](2), object(1), timedelta64[ns](1)\n",
      "memory usage: 179.9+ MB\n"
     ]
    }
   ],
   "source": [
    "# Converting day_of_week and month_name into categorical datatype\n",
    "Cyclistic_data['day_of_week'] = Cyclistic_data['day_of_week'].astype('category')\n",
    "Cyclistic_data['month_name'] = Cyclistic_data['month_name'].astype('category')\n",
    "Cyclistic_data.info()"
   ]
  },
  {
   "cell_type": "code",
   "execution_count": 21,
   "id": "81331460",
   "metadata": {},
   "outputs": [
    {
     "data": {
      "text/plain": [
       "(5240260, 8)"
      ]
     },
     "execution_count": 21,
     "metadata": {},
     "output_type": "execute_result"
    }
   ],
   "source": [
    "Cyclistic_data.shape"
   ]
  },
  {
   "cell_type": "code",
   "execution_count": 22,
   "id": "06040af6",
   "metadata": {},
   "outputs": [
    {
     "data": {
      "text/html": [
       "<div>\n",
       "<style scoped>\n",
       "    .dataframe tbody tr th:only-of-type {\n",
       "        vertical-align: middle;\n",
       "    }\n",
       "\n",
       "    .dataframe tbody tr th {\n",
       "        vertical-align: top;\n",
       "    }\n",
       "\n",
       "    .dataframe thead th {\n",
       "        text-align: right;\n",
       "    }\n",
       "</style>\n",
       "<table border=\"1\" class=\"dataframe\">\n",
       "  <thead>\n",
       "    <tr style=\"text-align: right;\">\n",
       "      <th></th>\n",
       "      <th>ride_id</th>\n",
       "      <th>rideable_type</th>\n",
       "      <th>member_type</th>\n",
       "      <th>start_datetime</th>\n",
       "      <th>end_datetime</th>\n",
       "      <th>ride_length</th>\n",
       "      <th>day_of_week</th>\n",
       "      <th>month_name</th>\n",
       "    </tr>\n",
       "  </thead>\n",
       "  <tbody>\n",
       "    <tr>\n",
       "      <th>0</th>\n",
       "      <td>98D355D9A9852BE9</td>\n",
       "      <td>classic_bike</td>\n",
       "      <td>casual</td>\n",
       "      <td>2022-01-01 00:00:05</td>\n",
       "      <td>2022-01-01 00:01:48</td>\n",
       "      <td>0 days 00:01:43</td>\n",
       "      <td>Saturday</td>\n",
       "      <td>January</td>\n",
       "    </tr>\n",
       "    <tr>\n",
       "      <th>1</th>\n",
       "      <td>04706CA7F5BD25EE</td>\n",
       "      <td>electric_bike</td>\n",
       "      <td>casual</td>\n",
       "      <td>2022-01-01 00:01:00</td>\n",
       "      <td>2022-01-01 00:04:39</td>\n",
       "      <td>0 days 00:03:39</td>\n",
       "      <td>Saturday</td>\n",
       "      <td>January</td>\n",
       "    </tr>\n",
       "    <tr>\n",
       "      <th>2</th>\n",
       "      <td>42178E850B92597A</td>\n",
       "      <td>electric_bike</td>\n",
       "      <td>casual</td>\n",
       "      <td>2022-01-01 00:01:16</td>\n",
       "      <td>2022-01-01 00:32:14</td>\n",
       "      <td>0 days 00:30:58</td>\n",
       "      <td>Saturday</td>\n",
       "      <td>January</td>\n",
       "    </tr>\n",
       "    <tr>\n",
       "      <th>3</th>\n",
       "      <td>6B93C46E8F5B114C</td>\n",
       "      <td>classic_bike</td>\n",
       "      <td>casual</td>\n",
       "      <td>2022-01-01 00:02:14</td>\n",
       "      <td>2022-01-01 00:31:07</td>\n",
       "      <td>0 days 00:28:53</td>\n",
       "      <td>Saturday</td>\n",
       "      <td>January</td>\n",
       "    </tr>\n",
       "    <tr>\n",
       "      <th>4</th>\n",
       "      <td>466943353EAC8022</td>\n",
       "      <td>classic_bike</td>\n",
       "      <td>casual</td>\n",
       "      <td>2022-01-01 00:02:35</td>\n",
       "      <td>2022-01-01 00:31:04</td>\n",
       "      <td>0 days 00:28:29</td>\n",
       "      <td>Saturday</td>\n",
       "      <td>January</td>\n",
       "    </tr>\n",
       "  </tbody>\n",
       "</table>\n",
       "</div>"
      ],
      "text/plain": [
       "            ride_id  rideable_type member_type      start_datetime  \\\n",
       "0  98D355D9A9852BE9   classic_bike      casual 2022-01-01 00:00:05   \n",
       "1  04706CA7F5BD25EE  electric_bike      casual 2022-01-01 00:01:00   \n",
       "2  42178E850B92597A  electric_bike      casual 2022-01-01 00:01:16   \n",
       "3  6B93C46E8F5B114C   classic_bike      casual 2022-01-01 00:02:14   \n",
       "4  466943353EAC8022   classic_bike      casual 2022-01-01 00:02:35   \n",
       "\n",
       "         end_datetime     ride_length day_of_week month_name  \n",
       "0 2022-01-01 00:01:48 0 days 00:01:43    Saturday    January  \n",
       "1 2022-01-01 00:04:39 0 days 00:03:39    Saturday    January  \n",
       "2 2022-01-01 00:32:14 0 days 00:30:58    Saturday    January  \n",
       "3 2022-01-01 00:31:07 0 days 00:28:53    Saturday    January  \n",
       "4 2022-01-01 00:31:04 0 days 00:28:29    Saturday    January  "
      ]
     },
     "execution_count": 22,
     "metadata": {},
     "output_type": "execute_result"
    }
   ],
   "source": [
    "# Print cleaned dataset\n",
    "Cyclistic_data.head()"
   ]
  },
  {
   "cell_type": "code",
   "execution_count": 23,
   "id": "90bc3041",
   "metadata": {},
   "outputs": [
    {
     "data": {
      "text/plain": [
       "False"
      ]
     },
     "execution_count": 23,
     "metadata": {},
     "output_type": "execute_result"
    }
   ],
   "source": [
    "# Check for duplicate values in the dataset\n",
    "Cyclistic_data.duplicated().any()"
   ]
  },
  {
   "cell_type": "markdown",
   "id": "9e8d67cd",
   "metadata": {},
   "source": [
    "# Exploratory Data Analysis"
   ]
  },
  {
   "cell_type": "code",
   "execution_count": 42,
   "id": "0643c72b",
   "metadata": {},
   "outputs": [
    {
     "name": "stdout",
     "output_type": "stream",
     "text": [
      "<class 'pandas.core.frame.DataFrame'>\n",
      "RangeIndex: 5240260 entries, 0 to 5240259\n",
      "Data columns (total 8 columns):\n",
      " #   Column          Dtype          \n",
      "---  ------          -----          \n",
      " 0   ride_id         object         \n",
      " 1   rideable_type   category       \n",
      " 2   member_type     category       \n",
      " 3   start_datetime  datetime64[ns] \n",
      " 4   end_datetime    datetime64[ns] \n",
      " 5   ride_length     timedelta64[ns]\n",
      " 6   day_of_week     category       \n",
      " 7   month_name      category       \n",
      "dtypes: category(4), datetime64[ns](2), object(1), timedelta64[ns](1)\n",
      "memory usage: 179.9+ MB\n"
     ]
    }
   ],
   "source": [
    "Cyclistic_data.info()"
   ]
  },
  {
   "cell_type": "code",
   "execution_count": 43,
   "id": "7df58ced",
   "metadata": {},
   "outputs": [
    {
     "data": {
      "text/plain": [
       "ride_id           92\n",
       "rideable_type     92\n",
       "member_type       92\n",
       "start_datetime    92\n",
       "end_datetime      92\n",
       "ride_length       92\n",
       "day_of_week       92\n",
       "month_name        92\n",
       "dtype: int64"
      ]
     },
     "execution_count": 43,
     "metadata": {},
     "output_type": "execute_result"
    }
   ],
   "source": [
    "# Filter negative durations\n",
    "negative_duration = Cyclistic_data['ride_length'] < '00:00:00'\n",
    "# Show the number of negative time duration\n",
    "Cyclistic_data[negative_duration].count()"
   ]
  },
  {
   "cell_type": "code",
   "execution_count": 44,
   "id": "8fdb6de0",
   "metadata": {},
   "outputs": [],
   "source": [
    "# Remove the negative duration\n",
    "Cyclistic_data.drop(Cyclistic_data[negative_duration].index, inplace=True)"
   ]
  },
  {
   "cell_type": "code",
   "execution_count": 46,
   "id": "8187f77f",
   "metadata": {},
   "outputs": [
    {
     "data": {
      "text/plain": [
       "ride_id           92194\n",
       "rideable_type     92194\n",
       "member_type       92194\n",
       "start_datetime    92194\n",
       "end_datetime      92194\n",
       "ride_length       92194\n",
       "day_of_week       92194\n",
       "month_name        92194\n",
       "dtype: int64"
      ]
     },
     "execution_count": 46,
     "metadata": {},
     "output_type": "execute_result"
    }
   ],
   "source": [
    "# Remove ride_length < 60 seconds\n",
    "less_duration = Cyclistic_data['ride_length'] < '00:00:60'\n",
    "# Show the number of less duration\n",
    "Cyclistic_data[less_duration].count()"
   ]
  },
  {
   "cell_type": "code",
   "execution_count": 47,
   "id": "82475ecf",
   "metadata": {},
   "outputs": [],
   "source": [
    "# Remove the less duration\n",
    "Cyclistic_data.drop(Cyclistic_data[less_duration].index, inplace=True)"
   ]
  },
  {
   "cell_type": "code",
   "execution_count": 51,
   "id": "a061c59d",
   "metadata": {},
   "outputs": [
    {
     "data": {
      "text/plain": [
       "count                      5147974\n",
       "mean     0 days 00:20:21.851466810\n",
       "std      0 days 03:04:38.717368676\n",
       "min                0 days 00:01:00\n",
       "25%                0 days 00:06:11\n",
       "50%                0 days 00:10:40\n",
       "75%                0 days 00:18:57\n",
       "max               28 days 17:47:15\n",
       "Name: ride_length, dtype: object"
      ]
     },
     "execution_count": 51,
     "metadata": {},
     "output_type": "execute_result"
    }
   ],
   "source": [
    "# Calculate mean of ride_length for all types of users\n",
    "Cyclistic_data.ride_length.describe(datetime_is_numeric=True)\n"
   ]
  },
  {
   "cell_type": "code",
   "execution_count": 54,
   "id": "70605f84",
   "metadata": {},
   "outputs": [
    {
     "data": {
      "text/plain": [
       "count                      3051335\n",
       "mean     0 days 00:13:03.892493941\n",
       "std      0 days 00:29:41.918734088\n",
       "min                0 days 00:01:00\n",
       "25%                0 days 00:05:24\n",
       "50%                0 days 00:09:08\n",
       "75%                0 days 00:15:34\n",
       "max                1 days 01:59:54\n",
       "Name: ride_length, dtype: object"
      ]
     },
     "execution_count": 54,
     "metadata": {},
     "output_type": "execute_result"
    }
   ],
   "source": [
    "# Filter ride_length for member type 'member' riders\n",
    "member_filter = Cyclistic_data['member_type'] == 'member'\n",
    "Cyclistic_data[member_filter].ride_length.describe()\n"
   ]
  },
  {
   "cell_type": "code",
   "execution_count": 55,
   "id": "1237970d",
   "metadata": {},
   "outputs": [
    {
     "data": {
      "text/plain": [
       "count                      2096639\n",
       "mean     0 days 00:30:59.233268101\n",
       "std      0 days 04:46:46.330554587\n",
       "min                0 days 00:01:00\n",
       "25%                0 days 00:07:50\n",
       "50%                0 days 00:13:36\n",
       "75%                0 days 00:25:05\n",
       "max               28 days 17:47:15\n",
       "Name: ride_length, dtype: object"
      ]
     },
     "execution_count": 55,
     "metadata": {},
     "output_type": "execute_result"
    }
   ],
   "source": [
    "# filtering the ride length for casual riders\n",
    "Cyclistic_data[~member_filter].ride_length.describe()"
   ]
  },
  {
   "cell_type": "code",
   "execution_count": 56,
   "id": "91336d84",
   "metadata": {},
   "outputs": [
    {
     "data": {
      "text/plain": [
       "0    Saturday\n",
       "Name: day_of_week, dtype: category\n",
       "Categories (7, object): ['Friday', 'Monday', 'Saturday', 'Sunday', 'Thursday', 'Tuesday', 'Wednesday']"
      ]
     },
     "execution_count": 56,
     "metadata": {},
     "output_type": "execute_result"
    }
   ],
   "source": [
    "# calculate the mode of week-day of all users \n",
    "mode_week_day = Cyclistic_data['day_of_week'].mode()\n",
    "mode_week_day\n"
   ]
  },
  {
   "cell_type": "code",
   "execution_count": 57,
   "id": "b258ce1f",
   "metadata": {},
   "outputs": [
    {
     "data": {
      "text/plain": [
       "0    Thursday\n",
       "Name: day_of_week, dtype: category\n",
       "Categories (7, object): ['Friday', 'Monday', 'Saturday', 'Sunday', 'Thursday', 'Tuesday', 'Wednesday']"
      ]
     },
     "execution_count": 57,
     "metadata": {},
     "output_type": "execute_result"
    }
   ],
   "source": [
    "# Calculate mode of weekday for member riders\n",
    "mode_week_day_member = Cyclistic_data[Cyclistic_data['member_type'] == 'member']\n",
    "mode_week_day_member = mode_week_day_member['day_of_week'].mode()\n",
    "mode_week_day_member"
   ]
  },
  {
   "cell_type": "code",
   "execution_count": 58,
   "id": "829a23ad",
   "metadata": {},
   "outputs": [
    {
     "data": {
      "text/plain": [
       "0    Saturday\n",
       "Name: day_of_week, dtype: category\n",
       "Categories (7, object): ['Friday', 'Monday', 'Saturday', 'Sunday', 'Thursday', 'Tuesday', 'Wednesday']"
      ]
     },
     "execution_count": 58,
     "metadata": {},
     "output_type": "execute_result"
    }
   ],
   "source": [
    "# Calculate mode of weekday for casual riders\n",
    "mode_week_day_member = Cyclistic_data[Cyclistic_data['member_type'] == 'casual']\n",
    "mode_week_day_member = mode_week_day_member['day_of_week'].mode()\n",
    "mode_week_day_member"
   ]
  },
  {
   "cell_type": "code",
   "execution_count": 60,
   "id": "f89621a4",
   "metadata": {},
   "outputs": [
    {
     "data": {
      "text/plain": [
       "day_of_week\n",
       "Friday       724230\n",
       "Monday       684119\n",
       "Saturday     830742\n",
       "Sunday       703163\n",
       "Thursday     765012\n",
       "Tuesday      713357\n",
       "Wednesday    727351\n",
       "Name: ride_id, dtype: int64"
      ]
     },
     "execution_count": 60,
     "metadata": {},
     "output_type": "execute_result"
    }
   ],
   "source": [
    "# Calculate number of rides in day_of_week throughout the year\n",
    "count_users = Cyclistic_data.groupby('day_of_week')['ride_id'].count()\n",
    "count_users = count_users.sort_index()\n",
    "count_users"
   ]
  },
  {
   "cell_type": "code",
   "execution_count": 61,
   "id": "77b40138",
   "metadata": {},
   "outputs": [
    {
     "data": {
      "text/plain": [
       "day_of_week\n",
       "Friday       423831\n",
       "Monday       433510\n",
       "Saturday     400567\n",
       "Sunday       350036\n",
       "Thursday     486701\n",
       "Tuesday      476159\n",
       "Wednesday    480531\n",
       "Name: ride_id, dtype: int64"
      ]
     },
     "execution_count": 61,
     "metadata": {},
     "output_type": "execute_result"
    }
   ],
   "source": [
    "# Calculate number of rides by member type in day_of_week throughout the week --Member riders\n",
    "count_members = Cyclistic_data[Cyclistic_data['member_type'] == 'member'].groupby('day_of_week')['ride_id'].count()\n",
    "count_members"
   ]
  },
  {
   "cell_type": "code",
   "execution_count": 73,
   "id": "3f9c5b92",
   "metadata": {},
   "outputs": [
    {
     "data": {
      "text/plain": [
       "day_of_week\n",
       "Friday       300399\n",
       "Monday       250609\n",
       "Saturday     430175\n",
       "Sunday       353127\n",
       "Thursday     278311\n",
       "Tuesday      237198\n",
       "Wednesday    246820\n",
       "Name: ride_id, dtype: int64"
      ]
     },
     "execution_count": 73,
     "metadata": {},
     "output_type": "execute_result"
    }
   ],
   "source": [
    "# Calculate number of rides by member type in day_of_week throughout the week --Casual riders\n",
    "count_casual = Cyclistic_data[Cyclistic_data['member_type'] == 'casual'].groupby('day_of_week')['ride_id'].count()\n",
    "count_casual"
   ]
  },
  {
   "cell_type": "code",
   "execution_count": 64,
   "id": "00f71c7c",
   "metadata": {},
   "outputs": [
    {
     "data": {
      "text/plain": [
       "month_name\n",
       "April        318958\n",
       "August       720404\n",
       "December     164339\n",
       "February     101404\n",
       "January       91978\n",
       "July         757216\n",
       "June         712328\n",
       "March        250098\n",
       "May          577464\n",
       "November     307819\n",
       "October      505391\n",
       "September    640575\n",
       "Name: ride_id, dtype: int64"
      ]
     },
     "execution_count": 64,
     "metadata": {},
     "output_type": "execute_result"
    }
   ],
   "source": [
    "# Breakdown monthly number of users \n",
    "monthly_users = Cyclistic_data.groupby('month_name')['ride_id'].count()\n",
    "monthly_users = monthly_users.sort_index()\n",
    "monthly_users"
   ]
  },
  {
   "cell_type": "code",
   "execution_count": 65,
   "id": "a0607413",
   "metadata": {},
   "outputs": [
    {
     "data": {
      "text/plain": [
       "month_name\n",
       "April        209416\n",
       "August       394887\n",
       "December     124721\n",
       "February      82986\n",
       "January       76318\n",
       "July         386708\n",
       "June         373503\n",
       "March        170540\n",
       "May          322728\n",
       "November     217778\n",
       "October      319100\n",
       "September    372650\n",
       "Name: ride_id, dtype: int64"
      ]
     },
     "execution_count": 65,
     "metadata": {},
     "output_type": "execute_result"
    }
   ],
   "source": [
    "# Calculate monthly number of rides by member type -Member riders\n",
    "monthly_members = Cyclistic_data[Cyclistic_data['member_type'] == 'member'].groupby('month_name')['ride_id'].count()\n",
    "monthly_members"
   ]
  },
  {
   "cell_type": "code",
   "execution_count": 171,
   "id": "4e36f6b3",
   "metadata": {},
   "outputs": [
    {
     "data": {
      "text/plain": [
       "month_name\n",
       "April        109542\n",
       "August       325517\n",
       "December      39618\n",
       "February      18418\n",
       "January       15660\n",
       "July         370508\n",
       "June         338825\n",
       "March         79558\n",
       "May          254736\n",
       "November      90041\n",
       "October      186291\n",
       "September    267925\n",
       "Name: ride_id, dtype: int64"
      ]
     },
     "execution_count": 171,
     "metadata": {},
     "output_type": "execute_result"
    }
   ],
   "source": [
    "# Calculate monthly number of rides by member type -Casual riders\n",
    "monthly_casual = Cyclistic_data[Cyclistic_data['member_type'] == 'casual'].groupby('month_name')['ride_id'].count()\n",
    "monthly_casual"
   ]
  },
  {
   "cell_type": "markdown",
   "id": "6a954ee6",
   "metadata": {},
   "source": [
    "# Visualization"
   ]
  },
  {
   "cell_type": "code",
   "execution_count": 135,
   "id": "b559c7b8",
   "metadata": {},
   "outputs": [
    {
     "data": {
      "image/png": "[encoded data removed]",
      "text/plain": [
       "<Figure size 864x576 with 1 Axes>"
      ]
     },
     "metadata": {
      "needs_background": "light"
     },
     "output_type": "display_data"
    }
   ],
   "source": [
    "# plot the graph for number of rides by casual riders and annual members \n",
    "import matplotlib.pyplot as plt\n",
    "\n",
    "# Group the data by day of week and member type\n",
    "grouped_df = Cyclistic_data.groupby(['day_of_week', 'member_type'])\n",
    "\n",
    "# Calculate the count of rides for each group\n",
    "counts = grouped_df['ride_id'].count().reset_index()\n",
    "\n",
    "# Pivot the data to have one row per day of week and two columns, one for each member type\n",
    "pivot_df = counts.pivot(index='day_of_week', columns='member_type', values='ride_id')\n",
    "\n",
    "# Plot the line graph\n",
    "plt.figure(figsize = (12,8))\n",
    "plt.plot(pivot_df.index, pivot_df['member'].values)\n",
    "plt.plot(pivot_df.index, pivot_df['casual'].values)\n",
    "plt.title('Number of rides by member type and day of week')\n",
    "plt.legend(['member', 'casual'])\n",
    "labels = ['Sunday', 'Monday', 'Tuesday', 'Wednesday', 'Thursday', 'Friday', 'Saturday']\n",
    "plt.xticks(pivot_df.index, labels)\n",
    "plt.show()\n",
    "\n",
    "\n"
   ]
  },
  {
   "cell_type": "markdown",
   "id": "33f46a0c",
   "metadata": {},
   "source": [
    "From the visualization above we see there is a spike in the number of casual riders during mid-week whereas a sharp drop of member riders during the same period. However, the opposite is observed during weekends; member riders have a steady increase, casual riders have a heavy drop.\n"
   ]
  },
  {
   "cell_type": "code",
   "execution_count": 136,
   "id": "27a7ecab",
   "metadata": {},
   "outputs": [
    {
     "data": {
      "image/png": "[encoded data removed]",
      "text/plain": [
       "<Figure size 864x576 with 1 Axes>"
      ]
     },
     "metadata": {
      "needs_background": "light"
     },
     "output_type": "display_data"
    }
   ],
   "source": [
    "# plot the graph for monthly number of rides by casual riders and annual members \n",
    "import matplotlib.pyplot as plt\n",
    "\n",
    "# Group the data by month_name and member type\n",
    "grouped_df = Cyclistic_data.groupby(['month_name', 'member_type'])\n",
    "\n",
    "# Calculate the count of rides for each group\n",
    "counts = grouped_df['ride_id'].count().reset_index()\n",
    "\n",
    "# Pivot the data to have one row per month_name and two columns, one for each member type\n",
    "pivot_df = counts.pivot(index='month_name', columns='member_type', values='ride_id')\n",
    "\n",
    "# Plot the line graph\n",
    "plt.figure(figsize = (12,8))\n",
    "plt.plot(pivot_df.index, pivot_df['member'].values)\n",
    "plt.plot(pivot_df.index, pivot_df['casual'].values)\n",
    "plt.title('Number of rides by member type and month')\n",
    "plt.legend(['member', 'casual'])\n",
    "labels = ['January', 'February', 'March', 'April', 'May', 'June', 'July', 'August', 'September', 'October', 'November', 'December']\n",
    "plt.xticks(pivot_df.index, labels)\n",
    "plt.show()\n"
   ]
  },
  {
   "cell_type": "markdown",
   "id": "4def431b",
   "metadata": {},
   "source": [
    "The above illustration shows a similar trend in monthly number of rides by member type. "
   ]
  },
  {
   "cell_type": "code",
   "execution_count": 177,
   "id": "5b7633b8",
   "metadata": {},
   "outputs": [
    {
     "data": {
      "image/png": "[encoded data removed]",
      "text/plain": [
       "<Figure size 864x576 with 1 Axes>"
      ]
     },
     "metadata": {
      "needs_background": "light"
     },
     "output_type": "display_data"
    }
   ],
   "source": [
    "# Plot a graph for monthly number of rides\n",
    "import matplotlib.pyplot as plt\n",
    "\n",
    "# group the data by month_name\n",
    "monthly_rides = Cyclistic_data.groupby(['month'])['ride_id'].count()\n",
    "\n",
    "# plot the bar graph\n",
    "plt.figure(figsize = (12,8))\n",
    "plt.bar(monthly_rides.index, monthly_rides.values)\n",
    "plt.title('Number of rides by month')\n",
    "plt.xlabel('Month')\n",
    "plt.ylabel('Number of rides')\n",
    "plt.show()\n",
    "\n"
   ]
  },
  {
   "cell_type": "code",
   "execution_count": 137,
   "id": "55a3da19",
   "metadata": {},
   "outputs": [
    {
     "data": {
      "text/plain": [
       "day_of_week\n",
       "Friday      0 days 00:19:56.241119533\n",
       "Monday      0 days 00:19:21.330639844\n",
       "Saturday    0 days 00:24:57.583177448\n",
       "Sunday      0 days 00:25:22.650886067\n",
       "Thursday    0 days 00:17:53.592867824\n",
       "Tuesday     0 days 00:17:25.930263528\n",
       "Wednesday   0 days 00:17:07.024655221\n",
       "Name: ride_length, dtype: timedelta64[ns]"
      ]
     },
     "execution_count": 137,
     "metadata": {},
     "output_type": "execute_result"
    }
   ],
   "source": [
    "# calculate the average ride length for all users in a week\n",
    "user_avg_rides = Cyclistic_data.groupby('day_of_week')['ride_length'].mean(numeric_only=False)\n",
    "user_avg_rides\n"
   ]
  },
  {
   "cell_type": "code",
   "execution_count": 138,
   "id": "a108d930",
   "metadata": {},
   "outputs": [
    {
     "data": {
      "text/plain": [
       "day_of_week\n",
       "Friday      0 days 00:12:52.200454898\n",
       "Monday      0 days 00:12:36.307054047\n",
       "Saturday    0 days 00:14:35.926701400\n",
       "Sunday      0 days 00:14:29.195445611\n",
       "Thursday    0 days 00:12:37.072755141\n",
       "Tuesday     0 days 00:12:26.335121251\n",
       "Wednesday   0 days 00:12:24.614106061\n",
       "Name: ride_length, dtype: timedelta64[ns]"
      ]
     },
     "execution_count": 138,
     "metadata": {},
     "output_type": "execute_result"
    }
   ],
   "source": [
    "# calculate the average ride length for members in a week\n",
    "user_avg_members = Cyclistic_data[Cyclistic_data['member_type'] == 'member'].groupby('day_of_week')['ride_length'].mean(numeric_only=False)\n",
    "user_avg_members"
   ]
  },
  {
   "cell_type": "code",
   "execution_count": 139,
   "id": "09e58b19",
   "metadata": {},
   "outputs": [
    {
     "data": {
      "text/plain": [
       "day_of_week\n",
       "Friday      0 days 00:29:54.517341935\n",
       "Monday      0 days 00:31:01.951027297\n",
       "Saturday    0 days 00:34:36.452404254\n",
       "Sunday      0 days 00:36:10.386484182\n",
       "Thursday    0 days 00:27:07.112690479\n",
       "Tuesday     0 days 00:27:27.347321646\n",
       "Wednesday   0 days 00:26:16.846483267\n",
       "Name: ride_length, dtype: timedelta64[ns]"
      ]
     },
     "execution_count": 139,
     "metadata": {},
     "output_type": "execute_result"
    }
   ],
   "source": [
    "# calculate the average ride length for casual_riders in a week\n",
    "user_avg_casual = Cyclistic_data[Cyclistic_data['member_type'] == 'casual'].groupby('day_of_week')['ride_length'].mean(numeric_only=False)\n",
    "user_avg_casual "
   ]
  },
  {
   "cell_type": "code",
   "execution_count": 140,
   "id": "e3af5b71",
   "metadata": {},
   "outputs": [
    {
     "data": {
      "text/plain": [
       "month_name\n",
       "April       0 days 00:18:53.270653189\n",
       "August      0 days 00:21:33.214521296\n",
       "December    0 days 00:14:02.655863793\n",
       "February    0 days 00:14:55.000719892\n",
       "January     0 days 00:15:57.238546174\n",
       "July        0 days 00:22:15.967824240\n",
       "June        0 days 00:23:35.117799665\n",
       "March       0 days 00:19:36.536937520\n",
       "May         0 days 00:22:06.920770818\n",
       "November    0 days 00:14:43.059258850\n",
       "October     0 days 00:18:13.650286609\n",
       "September   0 days 00:20:09.831762088\n",
       "Name: ride_length, dtype: timedelta64[ns]"
      ]
     },
     "execution_count": 140,
     "metadata": {},
     "output_type": "execute_result"
    }
   ],
   "source": [
    "# calculate the average ride length for all users in a month\n",
    "month_avg_rides = Cyclistic_data.groupby('month_name')['ride_length'].mean(numeric_only=False)\n",
    "month_avg_rides"
   ]
  },
  {
   "cell_type": "code",
   "execution_count": 141,
   "id": "5c93740c",
   "metadata": {},
   "outputs": [
    {
     "data": {
      "text/plain": [
       "month_name\n",
       "April       0 days 00:12:02.959224701\n",
       "August      0 days 00:13:40.416904076\n",
       "December    0 days 00:10:48.951411550\n",
       "February    0 days 00:11:47.179078398\n",
       "January     0 days 00:12:19.306480777\n",
       "July        0 days 00:14:02.070158879\n",
       "June        0 days 00:14:17.654977336\n",
       "March       0 days 00:12:24.193532309\n",
       "May         0 days 00:13:48.997840286\n",
       "November    0 days 00:11:21.027266298\n",
       "October     0 days 00:12:18.341632717\n",
       "September   0 days 00:13:14.729786663\n",
       "Name: ride_length, dtype: timedelta64[ns]"
      ]
     },
     "execution_count": 141,
     "metadata": {},
     "output_type": "execute_result"
    }
   ],
   "source": [
    "# calculate the average ride length for members in a month\n",
    "month_avg_members = Cyclistic_data[Cyclistic_data['member_type'] == 'member'].groupby('month_name')['ride_length'].mean(numeric_only=False)\n",
    "month_avg_members"
   ]
  },
  {
   "cell_type": "code",
   "execution_count": 142,
   "id": "62d06ca0",
   "metadata": {},
   "outputs": [
    {
     "data": {
      "text/plain": [
       "month_name\n",
       "April       0 days 00:31:57.680086176\n",
       "August      0 days 00:31:06.768691036\n",
       "December    0 days 00:24:12.454768034\n",
       "February    0 days 00:29:01.268867412\n",
       "January     0 days 00:33:39.316411238\n",
       "July        0 days 00:30:51.460548760\n",
       "June        0 days 00:33:49.635726407\n",
       "March       0 days 00:35:03.305387264\n",
       "May         0 days 00:32:37.745120438\n",
       "November    0 days 00:22:51.704690085\n",
       "October     0 days 00:28:22.262573071\n",
       "September   0 days 00:29:47.186436502\n",
       "Name: ride_length, dtype: timedelta64[ns]"
      ]
     },
     "execution_count": 142,
     "metadata": {},
     "output_type": "execute_result"
    }
   ],
   "source": [
    "# calculate the average ride length for casual_riders in a month\n",
    "month_avg_casual = Cyclistic_data[Cyclistic_data['member_type'] == 'casual'].groupby('month_name')['ride_length'].mean(numeric_only=False)\n",
    "month_avg_casual "
   ]
  },
  {
   "cell_type": "code",
   "execution_count": 144,
   "id": "be6bd6e7",
   "metadata": {},
   "outputs": [
    {
     "data": {
      "text/plain": [
       "<function matplotlib.pyplot.show(close=None, block=None)>"
      ]
     },
     "execution_count": 144,
     "metadata": {},
     "output_type": "execute_result"
    },
    {
     "data": {
      "image/png": "[encoded data removed]",
      "text/plain": [
       "<Figure size 864x432 with 1 Axes>"
      ]
     },
     "metadata": {
      "needs_background": "light"
     },
     "output_type": "display_data"
    }
   ],
   "source": [
    "# plot the average ride_length for different users during the week\n",
    "import matplotlib.pyplot as plt\n",
    "plt.figure(figsize = (12,6))\n",
    "plt.plot(user_avg_members/pd.Timedelta(minutes=1))\n",
    "plt.plot(user_avg_casual/pd.Timedelta(minutes=1))\n",
    "plt.title('The average ride duration for both user types during the week')\n",
    "plt.legend(['member', 'casual'])\n",
    "labels = ['Sunday', 'Monday', 'Tuesday', 'Wednesday', 'Thursday', 'Friday', 'Saturday']\n",
    "plt.xticks(user_avg_members.index, labels)\n",
    "plt.show"
   ]
  },
  {
   "cell_type": "markdown",
   "id": "cc491921",
   "metadata": {},
   "source": [
    "The above visualization shows that casual riders have a higher average ride duration during the week than members"
   ]
  },
  {
   "cell_type": "code",
   "execution_count": 146,
   "id": "3ce59a0f",
   "metadata": {},
   "outputs": [
    {
     "data": {
      "text/plain": [
       "<function matplotlib.pyplot.show(close=None, block=None)>"
      ]
     },
     "execution_count": 146,
     "metadata": {},
     "output_type": "execute_result"
    },
    {
     "data": {
      "image/png": "[encoded data removed]",
      "text/plain": [
       "<Figure size 864x432 with 1 Axes>"
      ]
     },
     "metadata": {
      "needs_background": "light"
     },
     "output_type": "display_data"
    }
   ],
   "source": [
    "# plot the average ride_length for different users during the year\n",
    "import matplotlib.pyplot as plt\n",
    "plt.figure(figsize = (12,6))\n",
    "plt.plot(month_avg_members/pd.Timedelta(minutes=1))\n",
    "plt.plot(month_avg_casual/pd.Timedelta(minutes=1))\n",
    "plt.title('The average ride duration for both user types during the year')\n",
    "plt.legend(['member', 'casual'])\n",
    "labels = ['January', 'February', 'March', 'April', 'May', 'June', 'July', 'August', 'September', 'October', 'November', 'December']\n",
    "plt.xticks(month_avg_members.index, labels)\n",
    "plt.show"
   ]
  },
  {
   "cell_type": "markdown",
   "id": "11446852",
   "metadata": {},
   "source": [
    "The trend continues with monthly data with the above visualization showing that casual riders have a higher average ride duration throughout the year than members"
   ]
  },
  {
   "cell_type": "code",
   "execution_count": 150,
   "id": "3aebe93f",
   "metadata": {},
   "outputs": [
    {
     "data": {
      "text/plain": [
       "member    3051335\n",
       "casual    2096639\n",
       "Name: member_type, dtype: int64"
      ]
     },
     "execution_count": 150,
     "metadata": {},
     "output_type": "execute_result"
    }
   ],
   "source": [
    "# check the number of users in each type over the past 12 months\n",
    "user_types = Cyclistic_data['member_type'].value_counts()\n",
    "user_types"
   ]
  },
  {
   "cell_type": "code",
   "execution_count": 151,
   "id": "f719487c",
   "metadata": {},
   "outputs": [
    {
     "data": {
      "image/png": "[encoded data removed]",
      "text/plain": [
       "<Figure size 432x288 with 1 Axes>"
      ]
     },
     "metadata": {
      "needs_background": "light"
     },
     "output_type": "display_data"
    }
   ],
   "source": [
    "# Plot a bar graph of the number of users in each type over the past 12 months\n",
    "\n",
    "plt.title('count of users in each type')\n",
    "plt.bar(user_types.index, user_types.values)\n",
    "plt.show()"
   ]
  },
  {
   "cell_type": "code",
   "execution_count": 153,
   "id": "178d44b0",
   "metadata": {},
   "outputs": [
    {
     "data": {
      "text/plain": [
       "Text(0.5, 1.0, 'Pie Chart of member type')"
      ]
     },
     "execution_count": 153,
     "metadata": {},
     "output_type": "execute_result"
    },
    {
     "data": {
      "image/png": "[encoded data removed]",
      "text/plain": [
       "<Figure size 648x432 with 1 Axes>"
      ]
     },
     "metadata": {},
     "output_type": "display_data"
    }
   ],
   "source": [
    "# Plot a pie chart of users in each type \n",
    "plt.figure(figsize = (9,6))\n",
    "plt.pie(user_types.values, labels= user_types.index, autopct= '%1.1f%%')\n",
    "plt.legend(user_types.index)\n",
    "plt.show\n",
    "plt.title('Pie Chart of member type')"
   ]
  },
  {
   "cell_type": "markdown",
   "id": "9f3c7ed1",
   "metadata": {},
   "source": [
    "Both the bar graph and pie chart show that Cyclistic has more members than casual riders"
   ]
  },
  {
   "cell_type": "code",
   "execution_count": 187,
   "id": "33f2407b",
   "metadata": {},
   "outputs": [
    {
     "data": {
      "text/plain": [
       "member_type               \n",
       "casual       electric_bike    1042001\n",
       "             classic_bike      878680\n",
       "             docked_bike       175958\n",
       "member       classic_bike     1684007\n",
       "             electric_bike    1367328\n",
       "             docked_bike            0\n",
       "Name: rideable_type, dtype: int64"
      ]
     },
     "execution_count": 187,
     "metadata": {},
     "output_type": "execute_result"
    }
   ],
   "source": [
    "# To check the amount of users for a particular rideable_type\n",
    "ride_type = Cyclistic_data.groupby('member_type')['rideable_type'].value_counts()\n",
    "ride_type"
   ]
  },
  {
   "cell_type": "code",
   "execution_count": 188,
   "id": "7bc5feed",
   "metadata": {},
   "outputs": [],
   "source": [
    "# Separate the number of users into members and casual riders based on rideable type\n",
    "list_member = []\n",
    "list_x = []\n",
    "list_y = list(ride_type.values)\n",
    "for i, j in ride_type.index:\n",
    "    list_x.append(j)\n",
    "    list_member.append(str(i))"
   ]
  },
  {
   "cell_type": "code",
   "execution_count": 189,
   "id": "88ffd611",
   "metadata": {},
   "outputs": [
    {
     "name": "stderr",
     "output_type": "stream",
     "text": [
      "C:\\Users\\ragir\\anaconda3\\lib\\site-packages\\seaborn\\_decorators.py:36: FutureWarning: Pass the following variables as keyword args: x, y. From version 0.12, the only valid positional argument will be `data`, and passing other arguments without an explicit keyword will result in an error or misinterpretation.\n",
      "  warnings.warn(\n"
     ]
    },
    {
     "data": {
      "text/plain": [
       "<AxesSubplot:>"
      ]
     },
     "execution_count": 189,
     "metadata": {},
     "output_type": "execute_result"
    },
    {
     "data": {
      "image/png": "[encoded data removed]",
      "text/plain": [
       "<Figure size 864x576 with 1 Axes>"
      ]
     },
     "metadata": {
      "needs_background": "light"
     },
     "output_type": "display_data"
    }
   ],
   "source": [
    "# Plot the number of users into members and casual riders based on rideable type\n",
    "import seaborn as sns\n",
    "plt.figure(figsize=(12,8))\n",
    "sns.barplot(list_x, list_y, hue=list_member, palette=['#ff7f0e', '#1f77b4'])\n"
   ]
  },
  {
   "cell_type": "markdown",
   "id": "2ca80cb5",
   "metadata": {},
   "source": [
    "We see that members use bikes more and that member riders do not use docked bikes at all"
   ]
  },
  {
   "cell_type": "code",
   "execution_count": 190,
   "id": "2720e9ca",
   "metadata": {},
   "outputs": [
    {
     "data": {
      "text/plain": [
       "month        \n",
       "1      member     76318\n",
       "       casual     15660\n",
       "2      member     82986\n",
       "       casual     18418\n",
       "3      member    170540\n",
       "       casual     79558\n",
       "4      member    209416\n",
       "       casual    109542\n",
       "5      member    322728\n",
       "       casual    254736\n",
       "6      member    373503\n",
       "       casual    338825\n",
       "7      member    386708\n",
       "       casual    370508\n",
       "8      member    394887\n",
       "       casual    325517\n",
       "9      member    372650\n",
       "       casual    267925\n",
       "10     member    319100\n",
       "       casual    186291\n",
       "11     member    217778\n",
       "       casual     90041\n",
       "12     member    124721\n",
       "       casual     39618\n",
       "Name: member_type, dtype: int64"
      ]
     },
     "execution_count": 190,
     "metadata": {},
     "output_type": "execute_result"
    }
   ],
   "source": [
    "# Calculate the total amount of users in each category per month\n",
    "users_over_month = Cyclistic_data.groupby('month')['member_type'].value_counts()\n",
    "users_over_month"
   ]
  },
  {
   "cell_type": "markdown",
   "id": "c26249e2",
   "metadata": {},
   "source": [
    "The trend is pretty much similar throughout the year with member riders being more than casual riders."
   ]
  },
  {
   "cell_type": "code",
   "execution_count": 191,
   "id": "cbacff47",
   "metadata": {},
   "outputs": [],
   "source": [
    "#Separate the number of users into members and casual over months\n",
    "list_month = []\n",
    "list_x = []\n",
    "list_y = (users_over_month.values)\n",
    "for i, j in users_over_month.index:\n",
    "    list_x.append(j)\n",
    "    list_month.append(str(i))"
   ]
  },
  {
   "cell_type": "code",
   "execution_count": 192,
   "id": "44316b77",
   "metadata": {},
   "outputs": [
    {
     "name": "stderr",
     "output_type": "stream",
     "text": [
      "C:\\Users\\ragir\\anaconda3\\lib\\site-packages\\seaborn\\_decorators.py:36: FutureWarning: Pass the following variables as keyword args: x, y. From version 0.12, the only valid positional argument will be `data`, and passing other arguments without an explicit keyword will result in an error or misinterpretation.\n",
      "  warnings.warn(\n"
     ]
    },
    {
     "data": {
      "text/plain": [
       "Text(0.5, 1.0, 'Count of member and casual riders over the months')"
      ]
     },
     "execution_count": 192,
     "metadata": {},
     "output_type": "execute_result"
    },
    {
     "data": {
      "image/png": "[encoded data removed]",
      "text/plain": [
       "<Figure size 1080x504 with 1 Axes>"
      ]
     },
     "metadata": {
      "needs_background": "light"
     },
     "output_type": "display_data"
    }
   ],
   "source": [
    "# plot count of members and casual riders\n",
    "plt.figure(figsize= (15,7))\n",
    "sns.barplot(list_x, list_y, hue =list_month)\n",
    "plt.title('Count of member and casual riders over the months')"
   ]
  },
  {
   "cell_type": "markdown",
   "id": "11a40bb6",
   "metadata": {},
   "source": [
    "The above visualization shows monthly member and casual rides distribution throughout the year."
   ]
  },
  {
   "cell_type": "code",
   "execution_count": 193,
   "id": "78b7a4c2",
   "metadata": {},
   "outputs": [
    {
     "data": {
      "text/plain": [
       "classic_bike     2562687\n",
       "electric_bike    2409329\n",
       "docked_bike       175958\n",
       "Name: rideable_type, dtype: int64"
      ]
     },
     "execution_count": 193,
     "metadata": {},
     "output_type": "execute_result"
    }
   ],
   "source": [
    "# check the number of each rideable type over the past 12 months\n",
    "ride_types = Cyclistic_data['rideable_type'].value_counts()\n",
    "ride_types"
   ]
  },
  {
   "cell_type": "code",
   "execution_count": 196,
   "id": "88d0d2f5",
   "metadata": {},
   "outputs": [
    {
     "data": {
      "text/plain": [
       "Text(0.5, 1.0, 'Pie Chart of rideable type')"
      ]
     },
     "execution_count": 196,
     "metadata": {},
     "output_type": "execute_result"
    },
    {
     "data": {
      "image/png": "[encoded data removed]",
      "text/plain": [
       "<Figure size 720x576 with 1 Axes>"
      ]
     },
     "metadata": {},
     "output_type": "display_data"
    }
   ],
   "source": [
    "# Plot a pie chart of users in each type \n",
    "plt.figure(figsize = (10,8))\n",
    "plt.pie(ride_types.values, labels= ride_types.index, autopct= '%1.1f%%')\n",
    "plt.legend(ride_types.index)\n",
    "plt.show\n",
    "plt.title('Pie Chart of rideable type')"
   ]
  },
  {
   "cell_type": "markdown",
   "id": "e9c01e42",
   "metadata": {},
   "source": [
    "# Conclusion"
   ]
  },
  {
   "cell_type": "markdown",
   "id": "21609e00",
   "metadata": {},
   "source": [
    "## Insights"
   ]
  },
  {
   "cell_type": "markdown",
   "id": "8a1dacdd",
   "metadata": {},
   "source": [
    "- Cyclistic has more members than casual riders subscribed to the ride share\n",
    "- Casual riders use bikes for longer periods of time compared to members\n",
    "- Casual riders use bikes more during mid-week,Tuesday and Wednesday, while members from Thursdays to the weekends\n",
    "- Generally ride usage surges from May to August for both member types most likely due to the warm summer season\n",
    "- Winter season months, November to April, have low ride numbers moslty due to the harsh weather conditions during this times\n",
    "- The docked bike is the least used rideable type with zero usage by members\n"
   ]
  },
  {
   "cell_type": "markdown",
   "id": "3fd66f71",
   "metadata": {},
   "source": [
    "## Recommendations"
   ]
  },
  {
   "cell_type": "markdown",
   "id": "6a6e7499",
   "metadata": {},
   "source": [
    "- The company should consider using marketing strategies that target casual riders more during weekdays when commuting to work\n",
    "- During warm months, when there's surge in number of casual riders, the company should consider discounting ride rates for casual riders who subscribe for membership \n",
    "- To increase usage of docked bikes, the company can discount the ride rates for this type for both members and casual riders, and incentivize casual riders who subscribe for membership with docked bikes"
   ]
  },
  {
   "cell_type": "code",
   "execution_count": null,
   "id": "5d9789e8",
   "metadata": {},
   "outputs": [],
   "source": []
  }
 ],
 "metadata": {
  "kernelspec": {
   "display_name": "Python 3 (ipykernel)",
   "language": "python",
   "name": "python3"
  },
  "language_info": {
   "codemirror_mode": {
    "name": "ipython",
    "version": 3
   },
   "file_extension": ".py",
   "mimetype": "text/x-python",
   "name": "python",
   "nbconvert_exporter": "python",
   "pygments_lexer": "ipython3",
   "version": "3.9.7"
  }
 },
 "nbformat": 4,
 "nbformat_minor": 5
}
